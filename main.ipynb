{
 "cells": [
  {
   "cell_type": "code",
   "execution_count": 1,
   "metadata": {
    "colab": {
     "base_uri": "https://localhost:8080/",
     "height": 17
    },
    "colab_type": "code",
    "id": "vd3mKHvl6isA",
    "outputId": "7d4a42e1-9039-4274-cccb-0c8c581c617e"
   },
   "outputs": [
    {
     "data": {
      "text/html": [
       "        <script type=\"text/javascript\">\n",
       "        window.PlotlyConfig = {MathJaxConfig: 'local'};\n",
       "        if (window.MathJax && window.MathJax.Hub && window.MathJax.Hub.Config) {window.MathJax.Hub.Config({SVG: {font: \"STIX-Web\"}});}\n",
       "        if (typeof require !== 'undefined') {\n",
       "        require.undef(\"plotly\");\n",
       "        requirejs.config({\n",
       "            paths: {\n",
       "                'plotly': ['https://cdn.plot.ly/plotly-2.12.1.min']\n",
       "            }\n",
       "        });\n",
       "        require(['plotly'], function(Plotly) {\n",
       "            window._Plotly = Plotly;\n",
       "        });\n",
       "        }\n",
       "        </script>\n",
       "        "
      ]
     },
     "metadata": {},
     "output_type": "display_data"
    }
   ],
   "source": [
    "# here we are importing the all necessary packages\n",
    "from imblearn.under_sampling import RandomUnderSampler\n",
    "\n",
    "import numpy as np\n",
    "import pandas as pd\n",
    "import seaborn as sns\n",
    "import matplotlib.pyplot as plt\n",
    "%matplotlib inline\n",
    "import plotly.offline as py\n",
    "py.init_notebook_mode(connected=True)\n",
    "import plotly.graph_objs as go\n",
    "import plotly.tools as tls\n",
    "import os\n",
    "import gc\n",
    "import pandas as pd\n",
    "import matplotlib.pyplot as plt\n",
    "import time\n",
    "import warnings\n",
    "import numpy as np\n",
    "from sklearn.ensemble import RandomForestClassifier\n",
    "warnings.filterwarnings(\"ignore\")\n",
    "from sklearn import model_selection\n",
    "from sklearn.linear_model import LogisticRegression\n",
    "from scipy import stats\n",
    "from sklearn.feature_extraction.text import CountVectorizer\n",
    "from sklearn.preprocessing import StandardScaler\n",
    "from sklearn.model_selection import train_test_split\n",
    "from imblearn.over_sampling import SMOTE\n",
    "from sklearn.metrics import accuracy_score,precision_score,recall_score,f1_score\n",
    "import pandas as pd\n",
    "import matplotlib.pyplot as plt\n",
    "import seaborn as sns\n",
    "from imblearn.pipeline import Pipeline\n",
    "from sklearn.model_selection import train_test_split\n",
    "from sklearn.model_selection import train_test_split\n",
    "from sklearn.linear_model import LogisticRegression\n",
    "from sklearn.model_selection import cross_val_score\n",
    "from sklearn.model_selection import GridSearchCV\n",
    "from sklearn.metrics import confusion_matrix\n",
    "from sklearn.tree import DecisionTreeClassifier\n",
    "from sklearn.ensemble import RandomForestClassifier\n",
    "import lightgbm as lgb\n",
    "from sklearn.svm import SVC\n",
    "# using one hot encoding\n",
    "from sklearn.preprocessing import OneHotEncoder\n",
    "from sklearn import metrics\n",
    "from sklearn.feature_selection import SelectKBest\n",
    "from sklearn.feature_selection import chi2\n",
    "from sklearn import metrics\n",
    "import tensorflow\n",
    "from tensorflow.keras.models import Sequential\n",
    "from tensorflow.keras.layers import Dense\n",
    "from tensorflow.keras.models import Model"
   ]
  },
  {
   "cell_type": "code",
   "execution_count": 2,
   "metadata": {},
   "outputs": [
    {
     "name": "stdout",
     "output_type": "stream",
     "text": [
      "Requirement already satisfied: imblearn in c:\\users\\ksaik\\anaconda3\\lib\\site-packages (0.0)\n",
      "Requirement already satisfied: imbalanced-learn in c:\\users\\ksaik\\anaconda3\\lib\\site-packages (from imblearn) (0.10.1)\n",
      "Requirement already satisfied: numpy>=1.17.3 in c:\\users\\ksaik\\anaconda3\\lib\\site-packages (from imbalanced-learn->imblearn) (1.23.5)\n",
      "Requirement already satisfied: scipy>=1.3.2 in c:\\users\\ksaik\\anaconda3\\lib\\site-packages (from imbalanced-learn->imblearn) (1.9.1)\n",
      "Requirement already satisfied: joblib>=1.1.1 in c:\\users\\ksaik\\anaconda3\\lib\\site-packages (from imbalanced-learn->imblearn) (1.2.0)\n",
      "Requirement already satisfied: threadpoolctl>=2.0.0 in c:\\users\\ksaik\\anaconda3\\lib\\site-packages (from imbalanced-learn->imblearn) (2.2.0)\n",
      "Requirement already satisfied: scikit-learn>=1.0.2 in c:\\users\\ksaik\\anaconda3\\lib\\site-packages (from imbalanced-learn->imblearn) (1.0.2)\n",
      "Note: you may need to restart the kernel to use updated packages.\n"
     ]
    }
   ],
   "source": [
    "pip install imblearn\n"
   ]
  },
  {
   "cell_type": "code",
   "execution_count": 3,
   "metadata": {},
   "outputs": [
    {
     "name": "stdout",
     "output_type": "stream",
     "text": [
      "Requirement already satisfied: lightgbm in c:\\users\\ksaik\\anaconda3\\lib\\site-packages (3.3.5)\n",
      "Requirement already satisfied: scikit-learn!=0.22.0 in c:\\users\\ksaik\\anaconda3\\lib\\site-packages (from lightgbm) (1.0.2)\n",
      "Requirement already satisfied: scipy in c:\\users\\ksaik\\anaconda3\\lib\\site-packages (from lightgbm) (1.9.1)\n",
      "Requirement already satisfied: numpy in c:\\users\\ksaik\\anaconda3\\lib\\site-packages (from lightgbm) (1.23.5)\n",
      "Requirement already satisfied: wheel in c:\\users\\ksaik\\anaconda3\\lib\\site-packages (from lightgbm) (0.37.1)\n",
      "Requirement already satisfied: joblib>=0.11 in c:\\users\\ksaik\\anaconda3\\lib\\site-packages (from scikit-learn!=0.22.0->lightgbm) (1.2.0)\n",
      "Requirement already satisfied: threadpoolctl>=2.0.0 in c:\\users\\ksaik\\anaconda3\\lib\\site-packages (from scikit-learn!=0.22.0->lightgbm) (2.2.0)\n",
      "Note: you may need to restart the kernel to use updated packages.\n"
     ]
    }
   ],
   "source": [
    "pip install lightgbm\n"
   ]
  },
  {
   "cell_type": "code",
   "execution_count": 4,
   "metadata": {},
   "outputs": [
    {
     "name": "stdout",
     "output_type": "stream",
     "text": [
      "Requirement already satisfied: tensorflow in c:\\users\\ksaik\\anaconda3\\lib\\site-packages (2.12.0)\n",
      "Requirement already satisfied: tensorflow-intel==2.12.0 in c:\\users\\ksaik\\anaconda3\\lib\\site-packages (from tensorflow) (2.12.0)\n",
      "Requirement already satisfied: termcolor>=1.1.0 in c:\\users\\ksaik\\anaconda3\\lib\\site-packages (from tensorflow-intel==2.12.0->tensorflow) (2.2.0)\n",
      "Requirement already satisfied: setuptools in c:\\users\\ksaik\\anaconda3\\lib\\site-packages (from tensorflow-intel==2.12.0->tensorflow) (63.4.1)\n",
      "Requirement already satisfied: typing-extensions>=3.6.6 in c:\\users\\ksaik\\anaconda3\\lib\\site-packages (from tensorflow-intel==2.12.0->tensorflow) (4.3.0)\n",
      "Requirement already satisfied: six>=1.12.0 in c:\\users\\ksaik\\anaconda3\\lib\\site-packages (from tensorflow-intel==2.12.0->tensorflow) (1.16.0)\n",
      "Requirement already satisfied: grpcio<2.0,>=1.24.3 in c:\\users\\ksaik\\anaconda3\\lib\\site-packages (from tensorflow-intel==2.12.0->tensorflow) (1.53.0)\n",
      "Requirement already satisfied: opt-einsum>=2.3.2 in c:\\users\\ksaik\\anaconda3\\lib\\site-packages (from tensorflow-intel==2.12.0->tensorflow) (3.3.0)\n",
      "Requirement already satisfied: absl-py>=1.0.0 in c:\\users\\ksaik\\anaconda3\\lib\\site-packages (from tensorflow-intel==2.12.0->tensorflow) (1.4.0)\n",
      "Requirement already satisfied: packaging in c:\\users\\ksaik\\anaconda3\\lib\\site-packages (from tensorflow-intel==2.12.0->tensorflow) (21.3)\n",
      "Requirement already satisfied: h5py>=2.9.0 in c:\\users\\ksaik\\anaconda3\\lib\\site-packages (from tensorflow-intel==2.12.0->tensorflow) (3.7.0)\n",
      "Requirement already satisfied: flatbuffers>=2.0 in c:\\users\\ksaik\\anaconda3\\lib\\site-packages (from tensorflow-intel==2.12.0->tensorflow) (23.3.3)\n",
      "Requirement already satisfied: wrapt<1.15,>=1.11.0 in c:\\users\\ksaik\\anaconda3\\lib\\site-packages (from tensorflow-intel==2.12.0->tensorflow) (1.14.1)\n",
      "Requirement already satisfied: astunparse>=1.6.0 in c:\\users\\ksaik\\anaconda3\\lib\\site-packages (from tensorflow-intel==2.12.0->tensorflow) (1.6.3)\n",
      "Requirement already satisfied: protobuf!=4.21.0,!=4.21.1,!=4.21.2,!=4.21.3,!=4.21.4,!=4.21.5,<5.0.0dev,>=3.20.3 in c:\\users\\ksaik\\anaconda3\\lib\\site-packages (from tensorflow-intel==2.12.0->tensorflow) (4.22.1)\n",
      "Requirement already satisfied: tensorflow-estimator<2.13,>=2.12.0 in c:\\users\\ksaik\\anaconda3\\lib\\site-packages (from tensorflow-intel==2.12.0->tensorflow) (2.12.0)\n",
      "Requirement already satisfied: jax>=0.3.15 in c:\\users\\ksaik\\anaconda3\\lib\\site-packages (from tensorflow-intel==2.12.0->tensorflow) (0.4.8)\n",
      "Requirement already satisfied: tensorboard<2.13,>=2.12 in c:\\users\\ksaik\\anaconda3\\lib\\site-packages (from tensorflow-intel==2.12.0->tensorflow) (2.12.1)\n",
      "Requirement already satisfied: tensorflow-io-gcs-filesystem>=0.23.1 in c:\\users\\ksaik\\anaconda3\\lib\\site-packages (from tensorflow-intel==2.12.0->tensorflow) (0.31.0)\n",
      "Requirement already satisfied: gast<=0.4.0,>=0.2.1 in c:\\users\\ksaik\\anaconda3\\lib\\site-packages (from tensorflow-intel==2.12.0->tensorflow) (0.4.0)\n",
      "Requirement already satisfied: keras<2.13,>=2.12.0 in c:\\users\\ksaik\\anaconda3\\lib\\site-packages (from tensorflow-intel==2.12.0->tensorflow) (2.12.0)\n",
      "Requirement already satisfied: libclang>=13.0.0 in c:\\users\\ksaik\\anaconda3\\lib\\site-packages (from tensorflow-intel==2.12.0->tensorflow) (16.0.0)\n",
      "Requirement already satisfied: numpy<1.24,>=1.22 in c:\\users\\ksaik\\anaconda3\\lib\\site-packages (from tensorflow-intel==2.12.0->tensorflow) (1.23.5)\n",
      "Requirement already satisfied: google-pasta>=0.1.1 in c:\\users\\ksaik\\anaconda3\\lib\\site-packages (from tensorflow-intel==2.12.0->tensorflow) (0.2.0)\n",
      "Requirement already satisfied: wheel<1.0,>=0.23.0 in c:\\users\\ksaik\\anaconda3\\lib\\site-packages (from astunparse>=1.6.0->tensorflow-intel==2.12.0->tensorflow) (0.37.1)\n",
      "Requirement already satisfied: ml-dtypes>=0.0.3 in c:\\users\\ksaik\\anaconda3\\lib\\site-packages (from jax>=0.3.15->tensorflow-intel==2.12.0->tensorflow) (0.0.4)\n",
      "Requirement already satisfied: scipy>=1.7 in c:\\users\\ksaik\\anaconda3\\lib\\site-packages (from jax>=0.3.15->tensorflow-intel==2.12.0->tensorflow) (1.9.1)\n",
      "Requirement already satisfied: requests<3,>=2.21.0 in c:\\users\\ksaik\\anaconda3\\lib\\site-packages (from tensorboard<2.13,>=2.12->tensorflow-intel==2.12.0->tensorflow) (2.28.1)\n",
      "Requirement already satisfied: markdown>=2.6.8 in c:\\users\\ksaik\\anaconda3\\lib\\site-packages (from tensorboard<2.13,>=2.12->tensorflow-intel==2.12.0->tensorflow) (3.3.4)\n",
      "Requirement already satisfied: tensorboard-plugin-wit>=1.6.0 in c:\\users\\ksaik\\anaconda3\\lib\\site-packages (from tensorboard<2.13,>=2.12->tensorflow-intel==2.12.0->tensorflow) (1.8.1)\n",
      "Requirement already satisfied: werkzeug>=1.0.1 in c:\\users\\ksaik\\anaconda3\\lib\\site-packages (from tensorboard<2.13,>=2.12->tensorflow-intel==2.12.0->tensorflow) (2.0.3)\n",
      "Requirement already satisfied: google-auth<3,>=1.6.3 in c:\\users\\ksaik\\anaconda3\\lib\\site-packages (from tensorboard<2.13,>=2.12->tensorflow-intel==2.12.0->tensorflow) (2.17.2)\n",
      "Requirement already satisfied: tensorboard-data-server<0.8.0,>=0.7.0 in c:\\users\\ksaik\\anaconda3\\lib\\site-packages (from tensorboard<2.13,>=2.12->tensorflow-intel==2.12.0->tensorflow) (0.7.0)\n",
      "Requirement already satisfied: google-auth-oauthlib<1.1,>=0.5 in c:\\users\\ksaik\\anaconda3\\lib\\site-packages (from tensorboard<2.13,>=2.12->tensorflow-intel==2.12.0->tensorflow) (1.0.0)\n",
      "Requirement already satisfied: pyparsing!=3.0.5,>=2.0.2 in c:\\users\\ksaik\\anaconda3\\lib\\site-packages (from packaging->tensorflow-intel==2.12.0->tensorflow) (3.0.9)\n",
      "Requirement already satisfied: cachetools<6.0,>=2.0.0 in c:\\users\\ksaik\\anaconda3\\lib\\site-packages (from google-auth<3,>=1.6.3->tensorboard<2.13,>=2.12->tensorflow-intel==2.12.0->tensorflow) (5.3.0)\n",
      "Requirement already satisfied: rsa<5,>=3.1.4 in c:\\users\\ksaik\\anaconda3\\lib\\site-packages (from google-auth<3,>=1.6.3->tensorboard<2.13,>=2.12->tensorflow-intel==2.12.0->tensorflow) (4.9)\n",
      "Requirement already satisfied: pyasn1-modules>=0.2.1 in c:\\users\\ksaik\\anaconda3\\lib\\site-packages (from google-auth<3,>=1.6.3->tensorboard<2.13,>=2.12->tensorflow-intel==2.12.0->tensorflow) (0.2.8)\n",
      "Requirement already satisfied: requests-oauthlib>=0.7.0 in c:\\users\\ksaik\\anaconda3\\lib\\site-packages (from google-auth-oauthlib<1.1,>=0.5->tensorboard<2.13,>=2.12->tensorflow-intel==2.12.0->tensorflow) (1.3.1)\n",
      "Requirement already satisfied: idna<4,>=2.5 in c:\\users\\ksaik\\anaconda3\\lib\\site-packages (from requests<3,>=2.21.0->tensorboard<2.13,>=2.12->tensorflow-intel==2.12.0->tensorflow) (3.3)\n",
      "Requirement already satisfied: certifi>=2017.4.17 in c:\\users\\ksaik\\anaconda3\\lib\\site-packages (from requests<3,>=2.21.0->tensorboard<2.13,>=2.12->tensorflow-intel==2.12.0->tensorflow) (2022.9.14)\n",
      "Requirement already satisfied: charset-normalizer<3,>=2 in c:\\users\\ksaik\\anaconda3\\lib\\site-packages (from requests<3,>=2.21.0->tensorboard<2.13,>=2.12->tensorflow-intel==2.12.0->tensorflow) (2.0.4)\n",
      "Requirement already satisfied: urllib3<1.27,>=1.21.1 in c:\\users\\ksaik\\anaconda3\\lib\\site-packages (from requests<3,>=2.21.0->tensorboard<2.13,>=2.12->tensorflow-intel==2.12.0->tensorflow) (1.26.11)\n",
      "Requirement already satisfied: pyasn1<0.5.0,>=0.4.6 in c:\\users\\ksaik\\anaconda3\\lib\\site-packages (from pyasn1-modules>=0.2.1->google-auth<3,>=1.6.3->tensorboard<2.13,>=2.12->tensorflow-intel==2.12.0->tensorflow) (0.4.8)\n",
      "Requirement already satisfied: oauthlib>=3.0.0 in c:\\users\\ksaik\\anaconda3\\lib\\site-packages (from requests-oauthlib>=0.7.0->google-auth-oauthlib<1.1,>=0.5->tensorboard<2.13,>=2.12->tensorflow-intel==2.12.0->tensorflow) (3.2.2)\n",
      "Note: you may need to restart the kernel to use updated packages.\n"
     ]
    }
   ],
   "source": [
    "pip install tensorflow\n"
   ]
  },
  {
   "cell_type": "code",
   "execution_count": 23,
   "metadata": {},
   "outputs": [
    {
     "name": "stdout",
     "output_type": "stream",
     "text": [
      "Collecting Prettytable\n",
      "  Downloading prettytable-3.6.0-py3-none-any.whl (27 kB)\n",
      "Requirement already satisfied: wcwidth in c:\\users\\ksaik\\anaconda3\\lib\\site-packages (from Prettytable) (0.2.5)\n",
      "Installing collected packages: Prettytable\n",
      "Successfully installed Prettytable-3.6.0\n",
      "Note: you may need to restart the kernel to use updated packages.\n"
     ]
    }
   ],
   "source": [
    "pip install Prettytable\n"
   ]
  },
  {
   "cell_type": "code",
   "execution_count": 5,
   "metadata": {
    "colab": {},
    "colab_type": "code",
    "id": "b_ppQPXh6itN"
   },
   "outputs": [],
   "source": [
    "# code for printing the confusion matrix\n",
    "#https://gist.github.com/shaypal5/94c53d765083101efc0240d776a23823i\n",
    "import pandas as pd\n",
    "import matplotlib.pyplot as plt\n",
    "import seaborn as sns\n",
    "\n",
    "def print_confusion_matrix(confusion_matrix, class_names, figsize = (10,7), fontsize=14):\n",
    "\n",
    "    df_cm = pd.DataFrame(\n",
    "        confusion_matrix, index=class_names, columns=class_names, \n",
    "    )\n",
    "    fig = plt.figure(figsize=figsize)\n",
    "    try:\n",
    "        heatmap = sns.heatmap(df_cm, annot=True, fmt=\"d\")\n",
    "    except ValueError:\n",
    "        raise ValueError(\"Confusion matrix values must be integers.\")\n",
    "    heatmap.yaxis.set_ticklabels(heatmap.yaxis.get_ticklabels(), rotation=0, ha='right', fontsize=fontsize)\n",
    "    heatmap.xaxis.set_ticklabels(heatmap.xaxis.get_ticklabels(), rotation=0, ha='right', fontsize=fontsize)\n",
    "    plt.ylabel('True label')\n",
    "    plt.xlabel('Predicted label')"
   ]
  },
  {
   "cell_type": "code",
   "execution_count": 6,
   "metadata": {
    "colab": {
     "base_uri": "https://localhost:8080/",
     "height": 34
    },
    "colab_type": "code",
    "id": "QK3y5oU56ito",
    "outputId": "e6ef682d-3e2f-4513-8bd2-09c590dda5f9"
   },
   "outputs": [
    {
     "name": "stdout",
     "output_type": "stream",
     "text": [
      "Number of data points: 101766\n"
     ]
    }
   ],
   "source": [
    "# reading the data using pandas\n",
    "data=pd.read_csv('diabetic_data.csv')\n",
    "print(\"Number of data points:\",data.shape[0])\n",
    "\n",
    "condition = data['readmitted']=='<30'\n",
    "data['readmitted'] = np.where(condition,1,0)"
   ]
  },
  {
   "cell_type": "code",
   "execution_count": 7,
   "metadata": {
    "colab": {},
    "colab_type": "code",
    "id": "l_R31-Oc6ixT"
   },
   "outputs": [],
   "source": [
    "#  splitting inot x and y\n",
    "y=data['readmitted']\n",
    "X=data.drop(columns=['readmitted'])"
   ]
  },
  {
   "cell_type": "code",
   "execution_count": 8,
   "metadata": {
    "colab": {
     "base_uri": "https://localhost:8080/",
     "height": 252
    },
    "colab_type": "code",
    "id": "wKqJxOew6ix_",
    "outputId": "3ea0ca67-ee55-4eed-a8c0-c7c5c3f29514"
   },
   "outputs": [
    {
     "data": {
      "text/plain": [
       "Index(['encounter_id', 'patient_nbr', 'race', 'gender', 'age', 'weight',\n",
       "       'admission_type_id', 'discharge_disposition_id', 'admission_source_id',\n",
       "       'time_in_hospital', 'payer_code', 'medical_specialty',\n",
       "       'num_lab_procedures', 'num_procedures', 'num_medications',\n",
       "       'number_outpatient', 'number_emergency', 'number_inpatient', 'diag_1',\n",
       "       'diag_2', 'diag_3', 'number_diagnoses', 'max_glu_serum', 'A1Cresult',\n",
       "       'metformin', 'repaglinide', 'nateglinide', 'chlorpropamide',\n",
       "       'glimepiride', 'acetohexamide', 'glipizide', 'glyburide', 'tolbutamide',\n",
       "       'pioglitazone', 'rosiglitazone', 'acarbose', 'miglitol', 'troglitazone',\n",
       "       'tolazamide', 'examide', 'citoglipton', 'insulin',\n",
       "       'glyburide-metformin', 'glipizide-metformin',\n",
       "       'glimepiride-pioglitazone', 'metformin-rosiglitazone',\n",
       "       'metformin-pioglitazone', 'change', 'diabetesMed', 'readmitted'],\n",
       "      dtype='object')"
      ]
     },
     "execution_count": 8,
     "metadata": {},
     "output_type": "execute_result"
    }
   ],
   "source": [
    "# printing the data columns\n",
    "data.columns"
   ]
  },
  {
   "cell_type": "code",
   "execution_count": 9,
   "metadata": {
    "colab": {
     "base_uri": "https://localhost:8080/",
     "height": 874
    },
    "colab_type": "code",
    "id": "yRCDFu7k6iyJ",
    "outputId": "3ea0e5fa-e0f5-441d-cf5e-fe9a667adf5f"
   },
   "outputs": [
    {
     "data": {
      "text/plain": [
       "encounter_id                 int64\n",
       "patient_nbr                  int64\n",
       "race                        object\n",
       "gender                      object\n",
       "age                         object\n",
       "weight                      object\n",
       "admission_type_id            int64\n",
       "discharge_disposition_id     int64\n",
       "admission_source_id          int64\n",
       "time_in_hospital             int64\n",
       "payer_code                  object\n",
       "medical_specialty           object\n",
       "num_lab_procedures           int64\n",
       "num_procedures               int64\n",
       "num_medications              int64\n",
       "number_outpatient            int64\n",
       "number_emergency             int64\n",
       "number_inpatient             int64\n",
       "diag_1                      object\n",
       "diag_2                      object\n",
       "diag_3                      object\n",
       "number_diagnoses             int64\n",
       "max_glu_serum               object\n",
       "A1Cresult                   object\n",
       "metformin                   object\n",
       "repaglinide                 object\n",
       "nateglinide                 object\n",
       "chlorpropamide              object\n",
       "glimepiride                 object\n",
       "acetohexamide               object\n",
       "glipizide                   object\n",
       "glyburide                   object\n",
       "tolbutamide                 object\n",
       "pioglitazone                object\n",
       "rosiglitazone               object\n",
       "acarbose                    object\n",
       "miglitol                    object\n",
       "troglitazone                object\n",
       "tolazamide                  object\n",
       "examide                     object\n",
       "citoglipton                 object\n",
       "insulin                     object\n",
       "glyburide-metformin         object\n",
       "glipizide-metformin         object\n",
       "glimepiride-pioglitazone    object\n",
       "metformin-rosiglitazone     object\n",
       "metformin-pioglitazone      object\n",
       "change                      object\n",
       "diabetesMed                 object\n",
       "readmitted                   int32\n",
       "dtype: object"
      ]
     },
     "execution_count": 9,
     "metadata": {},
     "output_type": "execute_result"
    }
   ],
   "source": [
    "# printing the data types\n",
    "data.dtypes"
   ]
  },
  {
   "cell_type": "code",
   "execution_count": 10,
   "metadata": {
    "colab": {},
    "colab_type": "code",
    "id": "Tb0VqaDFKGF9"
   },
   "outputs": [],
   "source": [
    "# splitting\n",
    "X_train, X_test, y_train, y_test = train_test_split(X, y, test_size=0.33, stratify=y)"
   ]
  },
  {
   "cell_type": "code",
   "execution_count": 11,
   "metadata": {
    "colab": {},
    "colab_type": "code",
    "id": "wp_tPHZAKLv-"
   },
   "outputs": [],
   "source": [
    "# taking all categroical data and convert into one hot encoding\n",
    "enc = OneHotEncoder(handle_unknown='ignore')\n",
    "enc.fit(X_train['race'].values.reshape(-1,1))\n",
    "X_train_race=enc.transform(X_train['race'].values.reshape(-1,1))\n",
    "X_test_race=enc.transform(X_test['race'].values.reshape(-1,1))\n",
    "enc.fit(X_train['gender'].values.reshape(-1,1))\n",
    "X_train_gender=enc.transform(X_train['gender'].values.reshape(-1,1))\n",
    "X_test_gender=enc.transform(X_test['gender'].values.reshape(-1,1))\n",
    "enc.fit(X_train['age'].values.reshape(-1,1))\n",
    "X_train_age=enc.transform(X_train['age'].values.reshape(-1,1))\n",
    "X_test_age=enc.transform(X_test['age'].values.reshape(-1,1))\n",
    "enc.fit(X_train['weight'].values.reshape(-1,1))\n",
    "X_train_weight=enc.transform(X_train['weight'].values.reshape(-1,1))\n",
    "X_test_weight=enc.transform(X_test['weight'].values.reshape(-1,1))\n",
    "enc.fit(X_train['payer_code'].values.reshape(-1,1))\n",
    "X_train_payer_code=enc.transform(X_train['payer_code'].values.reshape(-1,1))\n",
    "X_test_payer_code=enc.transform(X_test['payer_code'].values.reshape(-1,1))\n",
    "enc.fit(X_train['medical_specialty'].values.reshape(-1,1))\n",
    "X_train_medical_specialty=enc.transform(X_train['medical_specialty'].values.reshape(-1,1))\n",
    "X_test_medical_specialty=enc.transform(X_test['medical_specialty'].values.reshape(-1,1))\n",
    "enc.fit(X_train['diag_1'].values.reshape(-1,1))\n",
    "X_train_diag_1=enc.transform(X_train['diag_1'].values.reshape(-1,1))\n",
    "X_test_diag_1=enc.transform(X_test['diag_1'].values.reshape(-1,1))\n",
    "enc.fit(X_train['diag_2'].values.reshape(-1,1))\n",
    "X_train_diag_2=enc.transform(X_train['diag_2'].values.reshape(-1,1))\n",
    "X_test_diag_2=enc.transform(X_test['diag_2'].values.reshape(-1,1))\n",
    "enc.fit(X_train['diag_3'].values.reshape(-1,1))\n",
    "X_train_diag_3=enc.transform(X_train['diag_3'].values.reshape(-1,1))\n",
    "X_test_diag_3=enc.transform(X_test['diag_3'].values.reshape(-1,1))\n",
    "enc.fit(X_train['max_glu_serum'].values.reshape(-1,1))\n",
    "X_train_max_glu_serum=enc.transform(X_train['max_glu_serum'].values.reshape(-1,1))\n",
    "X_test_max_glu_serum=enc.transform(X_test['max_glu_serum'].values.reshape(-1,1))\n",
    "enc.fit(X_train['A1Cresult'].values.reshape(-1,1))\n",
    "X_train_A1Cresult=enc.transform(X_train['A1Cresult'].values.reshape(-1,1))\n",
    "X_test_A1Cresult=enc.transform(X_test['A1Cresult'].values.reshape(-1,1))\n",
    "enc.fit(X_train['metformin'].values.reshape(-1,1))\n",
    "X_train_metformin=enc.transform(X_train['metformin'].values.reshape(-1,1))\n",
    "X_test_metformin=enc.transform(X_test['metformin'].values.reshape(-1,1))\n",
    "enc.fit(X_train['metformin'].values.reshape(-1,1))\n",
    "X_train_metformin=enc.transform(X_train['metformin'].values.reshape(-1,1))\n",
    "X_test_metformin=enc.transform(X_test['metformin'].values.reshape(-1,1))\n",
    "enc.fit(X_train['repaglinide'].values.reshape(-1,1))\n",
    "X_train_repaglinide=enc.transform(X_train['repaglinide'].values.reshape(-1,1))\n",
    "X_test_repaglinide=enc.transform(X_test['repaglinide'].values.reshape(-1,1))\n",
    "enc.fit(X_train['nateglinide'].values.reshape(-1,1))\n",
    "X_train_nateglinide=enc.transform(X_train['nateglinide'].values.reshape(-1,1))\n",
    "X_test_nateglinide=enc.transform(X_test['nateglinide'].values.reshape(-1,1))\n",
    "enc.fit(X_train['chlorpropamide'].values.reshape(-1,1))\n",
    "X_train_chlorpropamide=enc.transform(X_train['chlorpropamide'].values.reshape(-1,1))\n",
    "X_test_chlorpropamide=enc.transform(X_test['chlorpropamide'].values.reshape(-1,1))\n",
    "enc.fit(X_train['glimepiride'].values.reshape(-1,1))\n",
    "X_train_glimepiride=enc.transform(X_train['glimepiride'].values.reshape(-1,1))\n",
    "X_test_glimepiride=enc.transform(X_test['glimepiride'].values.reshape(-1,1))\n",
    "enc.fit(X_train['acetohexamide'].values.reshape(-1,1))\n",
    "X_train_acetohexamide=enc.transform(X_train['acetohexamide'].values.reshape(-1,1))\n",
    "X_test_acetohexamide=enc.transform(X_test['acetohexamide'].values.reshape(-1,1))\n",
    "enc.fit(X_train['glipizide'].values.reshape(-1,1))\n",
    "X_train_glipizide=enc.transform(X_train['glipizide'].values.reshape(-1,1))\n",
    "X_test_glipizide=enc.transform(X_test['glipizide'].values.reshape(-1,1))\n",
    "enc.fit(X_train['glyburide'].values.reshape(-1,1))\n",
    "X_train_glyburide=enc.transform(X_train['glyburide'].values.reshape(-1,1))\n",
    "X_test_glyburide=enc.transform(X_test['glyburide'].values.reshape(-1,1))\n",
    "enc.fit(X_train['tolbutamide'].values.reshape(-1,1))\n",
    "X_train_tolbutamide=enc.transform(X_train['tolbutamide'].values.reshape(-1,1))\n",
    "X_test_tolbutamide=enc.transform(X_test['tolbutamide'].values.reshape(-1,1))\n",
    "enc.fit(X_train['pioglitazone'].values.reshape(-1,1))\n",
    "X_train_pioglitazone=enc.transform(X_train['pioglitazone'].values.reshape(-1,1))\n",
    "X_test_pioglitazone=enc.transform(X_test['pioglitazone'].values.reshape(-1,1))\n",
    "enc.fit(X_train['rosiglitazone'].values.reshape(-1,1))\n",
    "X_train_rosiglitazone=enc.transform(X_train['rosiglitazone'].values.reshape(-1,1))\n",
    "X_test_rosiglitazone=enc.transform(X_test['rosiglitazone'].values.reshape(-1,1))\n",
    "enc.fit(X_train['acarbose'].values.reshape(-1,1))\n",
    "X_train_acarbose=enc.transform(X_train['acarbose'].values.reshape(-1,1))\n",
    "X_test_acarbose=enc.transform(X_test['acarbose'].values.reshape(-1,1))\n",
    "enc.fit(X_train['miglitol'].values.reshape(-1,1))\n",
    "X_train_miglitol=enc.transform(X_train['miglitol'].values.reshape(-1,1))\n",
    "X_test_miglitol=enc.transform(X_test['miglitol'].values.reshape(-1,1))\n",
    "enc.fit(X_train['troglitazone'].values.reshape(-1,1))\n",
    "X_train_troglitazone=enc.transform(X_train['troglitazone'].values.reshape(-1,1))\n",
    "X_test_troglitazone=enc.transform(X_test['troglitazone'].values.reshape(-1,1))\n",
    "enc.fit(X_train['tolazamide'].values.reshape(-1,1))\n",
    "X_train_tolazamide=enc.transform(X_train['tolazamide'].values.reshape(-1,1))\n",
    "X_test_tolazamide=enc.transform(X_test['tolazamide'].values.reshape(-1,1))\n",
    "enc.fit(X_train['examide'].values.reshape(-1,1))\n",
    "X_train_examide=enc.transform(X_train['examide'].values.reshape(-1,1))\n",
    "X_test_examide=enc.transform(X_test['examide'].values.reshape(-1,1))\n",
    "enc.fit(X_train['citoglipton'].values.reshape(-1,1))\n",
    "X_train_citoglipton=enc.transform(X_train['citoglipton'].values.reshape(-1,1))\n",
    "X_test_citoglipton=enc.transform(X_test['citoglipton'].values.reshape(-1,1))\n",
    "enc.fit(X_train['insulin'].values.reshape(-1,1))\n",
    "X_train_insulin=enc.transform(X_train['insulin'].values.reshape(-1,1))\n",
    "X_test_insulin=enc.transform(X_test['insulin'].values.reshape(-1,1))\n",
    "enc.fit(X_train['glyburide-metformin'].values.reshape(-1,1))\n",
    "X_train_glyburide_metformin=enc.transform(X_train['glyburide-metformin'].values.reshape(-1,1))\n",
    "X_test_glyburide_metformin=enc.transform(X_test['glyburide-metformin'].values.reshape(-1,1))\n",
    "enc.fit(X_train['glipizide-metformin'].values.reshape(-1,1))\n",
    "X_train_glipizide_metformin=enc.transform(X_train['glipizide-metformin'].values.reshape(-1,1))\n",
    "X_test_glipizide_metformin=enc.transform(X_test['glipizide-metformin'].values.reshape(-1,1))\n",
    "enc.fit(X_train['metformin-rosiglitazone'].values.reshape(-1,1))\n",
    "X_train_metformin_rosiglitazone=enc.transform(X_train['metformin-rosiglitazone'].values.reshape(-1,1))\n",
    "X_test_metformin_rosiglitazone=enc.transform(X_test['metformin-rosiglitazone'].values.reshape(-1,1))\n",
    "enc.fit(X_train['glimepiride-pioglitazone'].values.reshape(-1,1))\n",
    "X_train_glimepiride_pioglitazone=enc.transform(X_train['glimepiride-pioglitazone'].values.reshape(-1,1))\n",
    "X_test_glimepiride_pioglitazone=enc.transform(X_test['glimepiride-pioglitazone'].values.reshape(-1,1))\n",
    "enc.fit(X_train['metformin-rosiglitazone'].values.reshape(-1,1))\n",
    "X_train_metformin_rosiglitazone=enc.transform(X_train['metformin-rosiglitazone'].values.reshape(-1,1))\n",
    "X_test_metformin_rosiglitazone=enc.transform(X_test['metformin-rosiglitazone'].values.reshape(-1,1))\n",
    "enc.fit(X_train['metformin-pioglitazone'].values.reshape(-1,1))\n",
    "X_train_metformin_pioglitazone=enc.transform(X_train['metformin-pioglitazone'].values.reshape(-1,1))\n",
    "X_test_metformin_pioglitazone=enc.transform(X_test['metformin-pioglitazone'].values.reshape(-1,1))\n",
    "enc.fit(X_train['change'].values.reshape(-1,1))\n",
    "X_train_change=enc.transform(X_train['change'].values.reshape(-1,1))\n",
    "X_test_change=enc.transform(X_test['change'].values.reshape(-1,1))\n",
    "enc.fit(X_train['diabetesMed'].values.reshape(-1,1))\n",
    "X_train_diabetesMed=enc.transform(X_train['diabetesMed'].values.reshape(-1,1))\n",
    "X_test_diabetesMed=enc.transform(X_test['diabetesMed'].values.reshape(-1,1))\n",
    "enc.fit(X_train['admission_type_id'].values.reshape(-1,1))\n",
    "X_train_admission_type_id=enc.transform(X_train['admission_type_id'].values.reshape(-1,1))\n",
    "X_test_admission_type_id=enc.transform(X_test['admission_type_id'].values.reshape(-1,1))\n",
    "enc.fit(X_train['discharge_disposition_id'].values.reshape(-1,1))\n",
    "X_train_discharge_disposition_id=enc.transform(X_train['discharge_disposition_id'].values.reshape(-1,1))\n",
    "X_test_discharge_disposition_id=enc.transform(X_test['discharge_disposition_id'].values.reshape(-1,1))\n",
    "enc.fit(X_train['admission_source_id'].values.reshape(-1,1))\n",
    "X_train_admission_source_id=enc.transform(X_train['admission_source_id'].values.reshape(-1,1))\n",
    "X_test_admission_source_id=enc.transform(X_test['admission_source_id'].values.reshape(-1,1))"
   ]
  },
  {
   "cell_type": "code",
   "execution_count": 12,
   "metadata": {
    "colab": {},
    "colab_type": "code",
    "id": "iG9_rM-xKUnj"
   },
   "outputs": [],
   "source": [
    "# normalising the numerical data\n",
    "from sklearn.preprocessing import Normalizer\n",
    "normalizer = Normalizer()\n",
    "normalizer.fit(X_train['patient_nbr'].values.reshape(-1,1))\n",
    "X_train_patient_nbr = normalizer.transform(X_train['patient_nbr'].values.reshape(-1,1))\n",
    "X_test_patient_nbr = normalizer.transform(X_test['patient_nbr'].values.reshape(-1,1))\n",
    "normalizer.fit(X_train['time_in_hospital'].values.reshape(-1,1))\n",
    "X_train_time_in_hospital = normalizer.transform(X_train['time_in_hospital'].values.reshape(-1,1))\n",
    "X_test_time_in_hospital = normalizer.transform(X_test['time_in_hospital'].values.reshape(-1,1))\n",
    "normalizer.fit(X_train['num_lab_procedures'].values.reshape(-1,1))\n",
    "X_train_num_lab_procedures = normalizer.transform(X_train['num_lab_procedures'].values.reshape(-1,1))\n",
    "X_test_num_lab_procedures = normalizer.transform(X_test['num_lab_procedures'].values.reshape(-1,1))\n",
    "normalizer.fit(X_train['num_procedures'].values.reshape(-1,1))\n",
    "X_train_num_procedures = normalizer.transform(X_train['num_procedures'].values.reshape(-1,1))\n",
    "X_test_num_procedures = normalizer.transform(X_test['num_procedures'].values.reshape(-1,1))\n",
    "normalizer.fit(X_train['num_medications'].values.reshape(-1,1))\n",
    "X_train_num_medications = normalizer.transform(X_train['num_medications'].values.reshape(-1,1))\n",
    "X_test_num_medications = normalizer.transform(X_test['num_medications'].values.reshape(-1,1))\n",
    "normalizer.fit(X_train['number_outpatient'].values.reshape(-1,1))\n",
    "X_train_number_outpatient = normalizer.transform(X_train['number_outpatient'].values.reshape(-1,1))\n",
    "X_test_number_outpatient = normalizer.transform(X_test['number_outpatient'].values.reshape(-1,1))\n",
    "normalizer.fit(X_train['number_emergency'].values.reshape(-1,1))\n",
    "X_train_number_emergency = normalizer.transform(X_train['number_emergency'].values.reshape(-1,1))\n",
    "X_test_number_emergency = normalizer.transform(X_test['number_emergency'].values.reshape(-1,1))\n",
    "normalizer.fit(X_train['number_inpatient'].values.reshape(-1,1))\n",
    "X_train_number_inpatient = normalizer.transform(X_train['number_inpatient'].values.reshape(-1,1))\n",
    "X_test_number_inpatient = normalizer.transform(X_test['number_inpatient'].values.reshape(-1,1))\n",
    "normalizer.fit(X_train['number_diagnoses'].values.reshape(-1,1))\n",
    "X_train_number_diagnoses = normalizer.transform(X_train['number_diagnoses'].values.reshape(-1,1))\n",
    "X_test_number_diagnoses = normalizer.transform(X_test['number_diagnoses'].values.reshape(-1,1))\n",
    "X_train_patient_nbr =X_train_patient_nbr.reshape(-1,1)\n",
    "X_test_patient_nbr =X_test_patient_nbr.reshape(-1,1)\n",
    "X_train_time_in_hospital =X_train_time_in_hospital.reshape(-1,1)\n",
    "X_test_time_in_hospital =X_test_time_in_hospital.reshape(-1,1)\n",
    "X_train_num_lab_procedures = X_train_num_lab_procedures.reshape(-1,1)\n",
    "X_test_num_lab_procedures = X_test_num_lab_procedures.reshape(-1,1)\n",
    "X_train_num_procedures =X_train_num_procedures.reshape(-1,1)\n",
    "X_test_num_procedures = X_test_num_procedures.reshape(-1,1)\n",
    "X_train_num_medications = X_train_num_medications.reshape(-1,1)\n",
    "X_test_num_medications = X_test_num_medications.reshape(-1,1)\n",
    "X_train_number_outpatient =X_train_number_outpatient.reshape(-1,1)\n",
    "X_test_number_outpatient = X_test_number_outpatient.reshape(-1,1)\n",
    "X_train_number_emergency =X_train_number_emergency.reshape(-1,1)\n",
    "X_test_number_emergency =X_test_number_emergency.reshape(-1,1)\n",
    "X_train_number_inpatient =X_train_number_inpatient.reshape(-1,1)\n",
    "X_test_number_inpatient = X_test_number_inpatient.reshape(-1,1)\n",
    "X_train_number_diagnoses = X_train_number_diagnoses.reshape(-1,1)\n",
    "X_test_number_diagnoses =X_test_number_diagnoses.reshape(-1,1)\n"
   ]
  },
  {
   "cell_type": "code",
   "execution_count": 13,
   "metadata": {
    "colab": {},
    "colab_type": "code",
    "id": "oDolB09xKZJ2"
   },
   "outputs": [],
   "source": [
    "# stacking\n",
    "from scipy.sparse import hstack\n",
    "X_train = hstack((X_train_race,X_train_gender,X_train_age,X_train_weight,X_train_payer_code,X_train_medical_specialty,X_train_diag_1,X_train_diag_2,X_train_diag_3,X_train_max_glu_serum,X_train_A1Cresult,X_train_metformin,X_train_repaglinide,X_train_nateglinide,X_train_chlorpropamide,X_train_glimepiride,X_train_acetohexamide,X_train_glipizide,X_train_glyburide,X_train_tolbutamide,X_train_pioglitazone,X_train_rosiglitazone,X_train_acarbose,X_train_miglitol,X_train_troglitazone,X_train_tolazamide,X_train_examide,X_train_citoglipton,X_train_insulin,X_train_glyburide_metformin,X_train_glipizide_metformin,X_train_glimepiride_pioglitazone,X_train_metformin_rosiglitazone,X_train_metformin_pioglitazone,X_train_change,X_train_diabetesMed,X_train_admission_type_id,X_train_discharge_disposition_id,X_train_admission_source_id,X_train_patient_nbr,X_train_time_in_hospital,X_train_num_lab_procedures,X_train_num_procedures,X_train_num_medications,X_train_number_outpatient,X_train_number_emergency,X_train_number_inpatient,X_train_number_diagnoses)).tocsr()\n",
    "X_test = hstack((X_test_race,X_test_gender,X_test_age,X_test_weight,X_test_payer_code,X_test_medical_specialty,X_test_diag_1,X_test_diag_2,X_test_diag_3,X_test_max_glu_serum,X_test_A1Cresult,X_test_metformin,X_test_repaglinide,X_test_nateglinide,X_test_chlorpropamide,X_test_glimepiride,X_test_acetohexamide,X_test_glipizide,X_test_glyburide,X_test_tolbutamide,X_test_pioglitazone,X_test_rosiglitazone,X_test_acarbose,X_test_miglitol,X_test_troglitazone,X_test_tolazamide,X_test_examide,X_test_citoglipton,X_test_insulin,X_test_glyburide_metformin,X_test_glipizide_metformin,X_test_glimepiride_pioglitazone,X_test_metformin_rosiglitazone,X_test_metformin_pioglitazone,X_test_change,X_test_diabetesMed,X_test_admission_type_id,X_test_discharge_disposition_id,X_test_admission_source_id,X_test_patient_nbr,X_test_time_in_hospital,X_test_num_lab_procedures,X_test_num_procedures,X_test_num_medications,X_test_number_outpatient,X_test_number_emergency,X_test_number_inpatient,X_test_number_diagnoses)).tocsr()\n"
   ]
  },
  {
   "cell_type": "code",
   "execution_count": 14,
   "metadata": {
    "colab": {},
    "colab_type": "code",
    "id": "-Lt8SI3nPAsg"
   },
   "outputs": [],
   "source": [
    "#https://stackoverflow.com/a/45386397/13693423\n",
    "# function to select k best features which returns new dataset\n",
    "def select_features(X_train, y_train, X_test):\n",
    "    fs = SelectKBest(score_func=chi2, k=150)\n",
    "    fs.fit(X_train, y_train)\n",
    "    X_train_fs = fs.transform(X_train)\n",
    "    X_test_fs = fs.transform(X_test)\n",
    "    return X_train_fs, X_test_fs, fs"
   ]
  },
  {
   "cell_type": "code",
   "execution_count": 15,
   "metadata": {
    "colab": {},
    "colab_type": "code",
    "id": "oickswkDPCjt"
   },
   "outputs": [],
   "source": [
    "# to get the best features\n",
    "from sklearn.feature_selection import SelectKBest\n",
    "from sklearn.feature_selection import chi2\n",
    "X_train_fs, X_test_fs, fs = select_features(X_train, y_train, X_test)"
   ]
  },
  {
   "cell_type": "code",
   "execution_count": 16,
   "metadata": {
    "colab": {},
    "colab_type": "code",
    "id": "SVzRitYuQTDw"
   },
   "outputs": [],
   "source": [
    "# selecting important features\n",
    "X_train_fs=X_train_fs.toarray()\n",
    "X_test_fs=X_test_fs.toarray()"
   ]
  },
  {
   "cell_type": "markdown",
   "metadata": {},
   "source": [
    "# Logistic regression"
   ]
  },
  {
   "cell_type": "code",
   "execution_count": 17,
   "metadata": {
    "colab": {
     "base_uri": "https://localhost:8080/",
     "height": 809
    },
    "colab_type": "code",
    "id": "49ThI3G66iy1",
    "outputId": "bc389675-d93a-40b7-fd47-c3d7b6507d1b"
   },
   "outputs": [
    {
     "name": "stdout",
     "output_type": "stream",
     "text": [
      "Logistic regression\n",
      "Test confusion matrix\n",
      "auc is 0.62\n",
      "Accuracy is 0.63\n",
      "Precision is 0.17\n",
      "Recall is 0.60\n",
      "f1-score is 0.27\n"
     ]
    },
    {
     "data": {
      "image/png": "[encoded data removed]",
      "text/plain": [
       "<Figure size 640x480 with 1 Axes>"
      ]
     },
     "metadata": {},
     "output_type": "display_data"
    },
    {
     "data": {
      "image/png": "[encoded data removed]",
      "text/plain": [
       "<Figure size 1000x700 with 2 Axes>"
      ]
     },
     "metadata": {},
     "output_type": "display_data"
    }
   ],
   "source": [
    "\n",
    "from sklearn.model_selection import train_test_split\n",
    "from sklearn.model_selection import train_test_split\n",
    "from sklearn.linear_model import LogisticRegression\n",
    "from sklearn.model_selection import cross_val_score\n",
    "from sklearn.model_selection import GridSearchCV\n",
    "from sklearn.metrics import confusion_matrix\n",
    "from sklearn.tree import DecisionTreeClassifier\n",
    "from sklearn.ensemble import RandomForestClassifier\n",
    "# function to try on different sets of ratio for smote\n",
    "\n",
    "# here upsampling is done for imbalanced data\n",
    "under = RandomUnderSampler()\n",
    "X_train_fs, y_train = under.fit_resample(X_train_fs, y_train.ravel())\n",
    "#here bar plot shows equal distribution after upsampling\n",
    "pd.Series(y_train).value_counts().plot.bar()\n",
    "# here the scaling is done  x train\n",
    "scaler = StandardScaler()\n",
    "X_train_fs=scaler.fit_transform(X_train_fs)\n",
    "X_test_fs=scaler.transform(X_test_fs)\n",
    "# here using cross validation and gridsearch to determine the best hyperparameter \n",
    "logit = LogisticRegression()\n",
    "param_grid = {'C': [0.001, 0.01, 0.1, 1, 10, 100, 1000] }\n",
    "clf = GridSearchCV(logit, param_grid,scoring='roc_auc',cv=5,n_jobs=-1)\n",
    "clf.fit(X_train_fs,y_train)\n",
    "# selecting the best model and printing the confusion matrix\n",
    "logit =clf.best_estimator_ \n",
    "logit_pred = logit.predict(X_test_fs)\n",
    "logit_pred_train=logit.predict(X_train_fs)\n",
    "print_confusion_matrix(confusion_matrix(y_test,logit_pred),['0','1'])\n",
    "print(\"Logistic regression\")\n",
    "print(\"Test confusion matrix\")\n",
    " # printing the accuracy preicison,recall,f1-score from logistic regression\n",
    "fpr, tpr, thresholds = metrics.roc_curve(y_test,logit_pred)\n",
    "print('auc is {0:.2f}'.format(metrics.auc(fpr, tpr)))\n",
    "log_auc=format(metrics.auc(fpr, tpr))\n",
    "log_f1_score=format(f1_score(y_test, logit_pred))\n",
    "print(\"Accuracy is {0:.2f}\".format(accuracy_score(y_test, logit_pred)))\n",
    "print(\"Precision is {0:.2f}\".format(precision_score(y_test, logit_pred)))\n",
    "print(\"Recall is {0:.2f}\".format(recall_score(y_test, logit_pred)))\n",
    "print(\"f1-score is {0:.2f}\".format(f1_score(y_test, logit_pred)))\n",
    "\n",
    "\n",
    "    "
   ]
  },
  {
   "cell_type": "markdown",
   "metadata": {},
   "source": [
    "# Decision tree"
   ]
  },
  {
   "cell_type": "code",
   "execution_count": 18,
   "metadata": {
    "colab": {
     "base_uri": "https://localhost:8080/",
     "height": 564
    },
    "colab_type": "code",
    "id": "ZVesHKs_fB-j",
    "outputId": "ac73ba92-fc24-4712-de47-9946088f4f9f"
   },
   "outputs": [
    {
     "name": "stdout",
     "output_type": "stream",
     "text": [
      "Decision tree\n",
      "Test confusion matrix\n",
      "auc is 0.60\n",
      "Accuracy is 0.53\n",
      "Precision is 0.15\n",
      "Recall is 0.70\n",
      "f1 is 0.25\n"
     ]
    },
    {
     "data": {
      "image/png": "[encoded data removed]",
      "text/plain": [
       "<Figure size 1000x700 with 2 Axes>"
      ]
     },
     "metadata": {},
     "output_type": "display_data"
    }
   ],
   "source": [
    "# decison tree\n",
    "# here using cross validation and gridsearch to determine the best hyperparameter \n",
    "parameters = {'max_depth': [1, 5, 10, 50], 'min_samples_split': [5, 10, 100, 500]}\n",
    "dtree = DecisionTreeClassifier()\n",
    "clf = GridSearchCV(dtree,parameters,scoring='roc_auc',cv=5,n_jobs=-1)\n",
    "clf.fit(X_train_fs,y_train)\n",
    "    # selecting the best model and printing the confusion matrix\n",
    "dtree =clf.best_estimator_ \n",
    "dtree.fit(X_train_fs,y_train)\n",
    "dtree_pred = dtree.predict(X_test_fs)\n",
    "    \n",
    "print_confusion_matrix(confusion_matrix(y_test,dtree_pred),['0','1'])\n",
    "print(\"Decision tree\")\n",
    "print(\"Test confusion matrix\")\n",
    "    \n",
    "    # printing the accuracy preicison,recall,f1-score from logistic regression\n",
    "fpr, tpr, thresholds = metrics.roc_curve(y_test,dtree_pred)\n",
    "print('auc is {0:.2f}'.format(metrics.auc(fpr, tpr)))\n",
    "decision_auc=format(metrics.auc(fpr, tpr))\n",
    "decision_f1=format(f1_score(y_test, dtree_pred))\n",
    "print(\"Accuracy is {0:.2f}\".format(accuracy_score(y_test, dtree_pred)))\n",
    "print(\"Precision is {0:.2f}\".format(precision_score(y_test, dtree_pred)))\n",
    "print(\"Recall is {0:.2f}\".format(recall_score(y_test, dtree_pred)))\n",
    "print(\"f1 is {0:.2f}\".format(f1_score(y_test, dtree_pred)))\n"
   ]
  },
  {
   "cell_type": "markdown",
   "metadata": {},
   "source": [
    "# Random forest"
   ]
  },
  {
   "cell_type": "code",
   "execution_count": 19,
   "metadata": {
    "colab": {
     "base_uri": "https://localhost:8080/",
     "height": 631
    },
    "colab_type": "code",
    "id": "RgJcDzJIfDNY",
    "outputId": "7b4e87e0-8fe0-401b-d0c1-eaa20d08e4ec"
   },
   "outputs": [
    {
     "name": "stdout",
     "output_type": "stream",
     "text": [
      "Fitting 5 folds for each of 40 candidates, totalling 200 fits\n",
      "random forest\n",
      "Test confusion matrix\n",
      "auc is 0.62\n",
      "Accuracy is 0.60\n",
      "Precision is 0.17\n",
      "Recall is 0.64\n",
      "f1score is 0.26\n"
     ]
    },
    {
     "data": {
      "image/png": "[encoded data removed]",
      "text/plain": [
       "<Figure size 1000x700 with 2 Axes>"
      ]
     },
     "metadata": {},
     "output_type": "display_data"
    }
   ],
   "source": [
    "    # doing hyperparameter tuning for random forest\n",
    "rm = RandomForestClassifier()\n",
    "params={'n_estimators':[5,10,25,50,100,300,500],'n_estimators': [10, 25], 'max_features': [5, 10], \n",
    " 'max_depth': [10, 50,75,100, None], 'bootstrap': [True, False]}\n",
    "model_rf=GridSearchCV(rm,param_grid=params,cv=5,scoring='roc_auc',n_jobs=-1,verbose=1)\n",
    "model_rf.fit(X_train_fs, y_train)\n",
    "rm =model_rf.best_estimator_\n",
    "rm.fit(X_train_fs,y_train)\n",
    "rm_prd = rm.predict(X_test_fs)\n",
    "\n",
    "# selecting the best model and printing the confusion matrix\n",
    "print_confusion_matrix(confusion_matrix(y_test,rm_prd),['0','1'])\n",
    "print(\"random forest\")\n",
    "print(\"Test confusion matrix\")\n",
    " # printing the accuracy preicison,recall,f1-score from logistic regression\n",
    "fpr, tpr, thresholds = metrics.roc_curve(y_test,rm_prd)\n",
    "print('auc is {0:.2f}'.format(metrics.auc(fpr, tpr)))\n",
    "print(\"Accuracy is {0:.2f}\".format(accuracy_score(y_test, rm_prd)))\n",
    "print(\"Precision is {0:.2f}\".format(precision_score(y_test, rm_prd)))\n",
    "print(\"Recall is {0:.2f}\".format(recall_score(y_test, rm_prd)))\n",
    "print(\"f1score is {0:.2f}\".format(f1_score(y_test, rm_prd)))    \n",
    "rm_auc=format(metrics.auc(fpr, tpr))\n",
    "rm_f1=format(f1_score(y_test, rm_prd))"
   ]
  },
  {
   "cell_type": "markdown",
   "metadata": {
    "colab_type": "text",
    "id": "NFddEEozrgFR"
   },
   "source": [
    "# feature importance"
   ]
  },
  {
   "cell_type": "code",
   "execution_count": 20,
   "metadata": {
    "colab": {
     "base_uri": "https://localhost:8080/",
     "height": 265
    },
    "colab_type": "code",
    "id": "AoelxKCK6i3X",
    "outputId": "2be36d38-b825-4851-9ccd-111ef8f92c71",
    "scrolled": false
   },
   "outputs": [
    {
     "data": {
      "image/png": "[encoded data removed]",
      "text/plain": [
       "<Figure size 640x480 with 1 Axes>"
      ]
     },
     "metadata": {},
     "output_type": "display_data"
    }
   ],
   "source": [
    "# feature importance plot\n",
    "from matplotlib import pyplot\n",
    "#for i in range(len(fs.scores_)):\n",
    "#    print('Feature %d: %f' % (i, fs.scores_[i]))\n",
    "# plot the scores\n",
    "pyplot.bar([i for i in range(len(fs.scores_))], fs.scores_)\n",
    "pyplot.show()"
   ]
  },
  {
   "cell_type": "markdown",
   "metadata": {
    "colab_type": "text",
    "id": "RYDT0eEnuaGc"
   },
   "source": [
    "# predicting the probability of the model using the decision tree and random forest"
   ]
  },
  {
   "cell_type": "code",
   "execution_count": 21,
   "metadata": {
    "colab": {
     "base_uri": "https://localhost:8080/",
     "height": 614
    },
    "colab_type": "code",
    "id": "KqSM19QF6i7K",
    "outputId": "59cb63aa-884c-4bc0-db3a-567394fe4ce0"
   },
   "outputs": [
    {
     "name": "stdout",
     "output_type": "stream",
     "text": [
      "Fitting 5 folds for each of 40 candidates, totalling 200 fits\n",
      "combined accuracy\n",
      "Test confusion matrix\n",
      "auc is 0.62\n",
      "Precision is 0.16\n",
      "Recall is 0.66\n",
      "f1score is 0.26\n"
     ]
    },
    {
     "data": {
      "image/png": "[encoded data removed]",
      "text/plain": [
       "<Figure size 1000x700 with 2 Axes>"
      ]
     },
     "metadata": {},
     "output_type": "display_data"
    }
   ],
   "source": [
    "# in the believe function i wrote the code for weighted average with markdown\n",
    "from sklearn.model_selection import train_test_split\n",
    "from sklearn.model_selection import train_test_split\n",
    "from sklearn.linear_model import LogisticRegression\n",
    "from sklearn.model_selection import cross_val_score\n",
    "from sklearn.model_selection import GridSearchCV\n",
    "from sklearn.metrics import confusion_matrix\n",
    "from sklearn.tree import DecisionTreeClassifier\n",
    "from sklearn.ensemble import RandomForestClassifier\n",
    "import lightgbm as lgb\n",
    "from sklearn.calibration import CalibratedClassifierCV\n",
    "# function to do weighted average\n",
    "# used decision tree\n",
    "decision = DecisionTreeClassifier()\n",
    "param_grid = {'max_depth': [1, 5, 10, 50], 'min_samples_split': [5, 10, 100, 500]}\n",
    "clf = GridSearchCV(decision, param_grid,scoring='roc_auc',cv=5,n_jobs=-1)\n",
    "clf.fit(X_train_fs,y_train)\n",
    "decision =clf.best_estimator_ \n",
    "sig_clf = CalibratedClassifierCV(decision, method=\"sigmoid\")\n",
    "sig_clf.fit(X_train_fs, y_train)\n",
    "    # used calibrated classifer to get the probability using decision tree\n",
    "predict_y_decision = sig_clf.predict_proba(X_test_fs)\n",
    "    # used random forest classifier\n",
    "rm = RandomForestClassifier()\n",
    "params={'n_estimators':[5,10,25,50,100,300,500],'n_estimators': [10, 25], 'max_features': [5, 10], \n",
    "     'max_depth': [10, 50,75,100, None], 'bootstrap': [True, False]}\n",
    "model_rf=GridSearchCV(rm,param_grid=params,cv=5,scoring='roc_auc',n_jobs=-1,verbose=1)\n",
    "model_rf.fit(X_train_fs, y_train)\n",
    "rm =model_rf.best_estimator_\n",
    "sig_clf = CalibratedClassifierCV(rm, method=\"sigmoid\")\n",
    "sig_clf.fit(X_train_fs, y_train)\n",
    "    # used calibrated classifer to get the correct probability predicitons\n",
    "predict_y_rm = sig_clf.predict_proba(X_test_fs)\n",
    "one,two=predict_y_decision,predict_y_rm\n",
    "z=[]\n",
    "    # added the probability of both the predictions\n",
    "for i in range(len(one)):\n",
    "  z.append([one[i][0]+two[i][0],one[i][1]+two[i][1]])\n",
    "predicted=[]\n",
    "# using argmax got the output and checked for the answer\n",
    "for i in range(len(z)):\n",
    "  predicted.append(np.argmax(z[i]))\n",
    "print_confusion_matrix(confusion_matrix(y_test,predicted),['0','1'])\n",
    "print(\"combined accuracy\")\n",
    "print(\"Test confusion matrix\")\n",
    "# printing the accuracy preicison,recall,f1-score from logistic regression\n",
    "fpr, tpr, thresholds = metrics.roc_curve(y_test,predicted)\n",
    "print('auc is {0:.2f}'.format(metrics.auc(fpr, tpr)))\n",
    "print(\"Precision is {0:.2f}\".format(precision_score(y_test,predicted)))\n",
    "print(\"Recall is {0:.2f}\".format(recall_score(y_test,predicted)))\n",
    "print(\"f1score is {0:.2f}\".format(f1_score(y_test,predicted)))\n",
    "avgweight_auc=format(metrics.auc(fpr, tpr))\n",
    "avgweight_f1=format(f1_score(y_test,predicted))"
   ]
  },
  {
   "cell_type": "code",
   "execution_count": 24,
   "metadata": {
    "colab": {
     "base_uri": "https://localhost:8080/",
     "height": 151
    },
    "colab_type": "code",
    "id": "wWyRTud6eYWd",
    "outputId": "5ecc8b31-1f39-4ea8-b4cc-eb9c14b817d2"
   },
   "outputs": [
    {
     "name": "stdout",
     "output_type": "stream",
     "text": [
      "+------------------+--------------------------------------+----------+----------+\n",
      "|    Vectorizer    |                Model                 | f1-score | TEST AUC |\n",
      "+------------------+--------------------------------------+----------+----------+\n",
      "| ONE HOT ENCODING |         LOGISTIC REGRESSION          |   0.27   |   0.62   |\n",
      "| ONE HOT ENCODING |            DECISION TREE             |   0.25   |   0.6    |\n",
      "| ONE HOT ENCODING |            RANDOM FOREST             |   0.26   |   0.62   |\n",
      "| ONE HOT ENCODING | COMBINED DECISION TREE RANDOM FOREST |   0.26   |   0.62   |\n",
      "+------------------+--------------------------------------+----------+----------+\n"
     ]
    }
   ],
   "source": [
    "from prettytable import PrettyTable\n",
    "#If you get a ModuleNotFoundError error , install prettytable using: pip3 install prettytab\n",
    "x = PrettyTable()\n",
    "x.field_names = [\"Vectorizer\", \"Model\",\"f1-score\",\"TEST AUC\"]\n",
    "x.add_row([\"ONE HOT ENCODING\",\"LOGISTIC REGRESSION\",round(float(log_f1_score),2),round(float(log_auc),2)])\n",
    "x.add_row([\"ONE HOT ENCODING\",\"DECISION TREE\",round(float(decision_f1),2),round(float(decision_auc),2)])\n",
    "x.add_row([\"ONE HOT ENCODING\",\"RANDOM FOREST\",round(float(rm_f1),2),round(float(rm_auc),2)])\n",
    "x.add_row([\"ONE HOT ENCODING\",\"COMBINED DECISION TREE RANDOM FOREST\",round(float(avgweight_f1),2),round(float(avgweight_auc),2)])\n",
    "print(x)\n"
   ]
  }
 ],
 "metadata": {
  "accelerator": "GPU",
  "colab": {
   "collapsed_sections": [],
   "name": "13_08_2020_(2) (3).ipynb",
   "provenance": [],
   "toc_visible": true
  },
  "kernelspec": {
   "display_name": "Python 3 (ipykernel)",
   "language": "python",
   "name": "python3"
  },
  "language_info": {
   "codemirror_mode": {
    "name": "ipython",
    "version": 3
   },
   "file_extension": ".py",
   "mimetype": "text/x-python",
   "name": "python",
   "nbconvert_exporter": "python",
   "pygments_lexer": "ipython3",
   "version": "3.9.13"
  }
 },
 "nbformat": 4,
 "nbformat_minor": 1
}
